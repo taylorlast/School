{
 "cells": [
  {
   "cell_type": "markdown",
   "metadata": {},
   "source": [
    "# Homework 7\n",
    "## Name Visualization\n",
    "\n",
    "In this homework, I created a function (plot_names) that takes a list of names, a gender, beginning year, and ending year as the parameters. The function plots a bar of the percentage of that specific name for the specified gender for the year. It will plot bars for the range of years specified."
   ]
  },
  {
   "cell_type": "code",
   "execution_count": 7,
   "metadata": {},
   "outputs": [],
   "source": [
    "import numpy as np\n",
    "import pandas as pd\n",
    "import matplotlib.pyplot as plt"
   ]
  },
  {
   "cell_type": "code",
   "execution_count": null,
   "metadata": {},
   "outputs": [],
   "source": []
  },
  {
   "cell_type": "code",
   "execution_count": 8,
   "metadata": {},
   "outputs": [
    {
     "data": {
      "text/plain": [
       "{'All years':       year     names gender  count\n",
       " 0     1900      Mary      F  16706\n",
       " 1     1900     Helen      F   6343\n",
       " 2     1900      Anna      F   6114\n",
       " 3     1900  Margaret      F   5304\n",
       " 4     1900      Ruth      F   4765\n",
       " ...    ...       ...    ...    ...\n",
       " 3650  1905   Wilburt      M      5\n",
       " 3651  1905   Wilfrid      M      5\n",
       " 3652  1905   Willian      M      5\n",
       " 3653  1905  Winifred      M      5\n",
       " 3654  1905   Woodson      M      5\n",
       " \n",
       " [20849 rows x 4 columns],\n",
       " 'Female Count': year\n",
       " 1900    299798\n",
       " 1901    239345\n",
       " 1902    264076\n",
       " 1903    261971\n",
       " 1904    275363\n",
       " 1905    291619\n",
       " Name: count, dtype: int64,\n",
       " 'Male Count': year\n",
       " 1900    150480\n",
       " 1901    106469\n",
       " 1902    122659\n",
       " 1903    119232\n",
       " 1904    128126\n",
       " 1905    132311\n",
       " Name: count, dtype: int64}"
      ]
     },
     "execution_count": 8,
     "metadata": {},
     "output_type": "execute_result"
    }
   ],
   "source": [
    "def read_ssn(begin_year,end_year):\n",
    "    all_years = pd.DataFrame()\n",
    "    years = range(begin_year,end_year+1)\n",
    "    \n",
    "    for y in years:\n",
    "        f = '/Users/taylorlast/Documents/UGA_FourthYear/STAT_4365/names/yob{}.txt'.format(y)\n",
    "        df = pd.read_csv(f,names=[\"names\",\"gender\",\"count\"])\n",
    "        df.insert(0,\"year\",y)\n",
    "        all_years = pd.concat([all_years,df],axis=0)\n",
    "        \n",
    "        male=all_years[all_years.gender==\"M\"]\n",
    "        female=all_years[all_years.gender==\"F\"]\n",
    "        \n",
    "        female_grouped=female.groupby('year')\n",
    "        male_grouped=male.groupby('year')\n",
    "        \n",
    "        female_count=female_grouped['count'].sum()\n",
    "        male_count=male_grouped['count'].sum()\n",
    "        \n",
    "    return {'All years' : all_years, 'Female Count' : female_count, 'Male Count': male_count}\n",
    "\n",
    "#Test Case\n",
    "read_ssn(1900,1905)"
   ]
  },
  {
   "cell_type": "code",
   "execution_count": 5,
   "metadata": {},
   "outputs": [],
   "source": [
    "def plot_names(*args, sex, begin_year = 1880, end_year = 2018):\n",
    "    \n",
    "    df = read_ssn(begin_year, end_year)['All years']\n",
    "    if sex == 'M':\n",
    "        df_total_gender = read_ssn(begin_year, end_year)['Male Count']\n",
    "    elif sex == 'F':\n",
    "        df_total_gender = read_ssn(begin_year, end_year)['Female Count']\n",
    "    else:\n",
    "        pass\n",
    "    \n",
    "    df = df[df.gender == sex]\n",
    "    df_names = df[df['names'].isin(args)]\n",
    "    df_final = pd.merge(df_names,df_total_gender,on = 'year',how='inner')\n",
    "    df_final['percent'] = (df_final['count_x'] / df_final['count_y'])*100\n",
    "    years = range(begin_year,end_year+1)\n",
    "\n",
    "    df_final = df_final.set_index('year')\n",
    "    df_final = df_final[['names','percent']]\n",
    "\n",
    "    fig, ax = plt.subplots(figsize = (10,8))\n",
    "    xpos = np.arange(len(years))\n",
    "    \n",
    "    for arg in args:\n",
    "        temp = df_final[df_final['names'] == arg]['percent']\n",
    "        ax.bar(x=years,height=temp, width = .5, label = arg,alpha=.5)\n",
    "        ax.legend()\n",
    "        ax.set_title('Popularity of names by gender')\n",
    "        ax.set_xlabel('year')\n",
    "        ax.set_ylabel('percent of newborns with name')"
   ]
  },
  {
   "cell_type": "code",
   "execution_count": 6,
   "metadata": {},
   "outputs": [
    {
     "data": {
      "image/png": "[encoded data removed]",
      "text/plain": [
       "<Figure size 720x576 with 1 Axes>"
      ]
     },
     "metadata": {
      "needs_background": "light"
     },
     "output_type": "display_data"
    }
   ],
   "source": [
    "plot_names(\"Mary\",\"Susan\",\"Natalie\",\"Evelyn\",\"Emma\",sex=\"F\",begin_year=1900,end_year=2018)"
   ]
  },
  {
   "cell_type": "code",
   "execution_count": null,
   "metadata": {},
   "outputs": [],
   "source": []
  }
 ],
 "metadata": {
  "kernelspec": {
   "display_name": "Python 3",
   "language": "python",
   "name": "python3"
  },
  "language_info": {
   "codemirror_mode": {
    "name": "ipython",
    "version": 3
   },
   "file_extension": ".py",
   "mimetype": "text/x-python",
   "name": "python",
   "nbconvert_exporter": "python",
   "pygments_lexer": "ipython3",
   "version": "3.8.3"
  }
 },
 "nbformat": 4,
 "nbformat_minor": 4
}

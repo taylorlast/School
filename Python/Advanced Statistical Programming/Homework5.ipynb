{
 "cells": [
  {
   "cell_type": "markdown",
   "metadata": {},
   "source": [
    "# Writing our own functions\n",
    "## Median and Lease Squares"
   ]
  },
  {
   "cell_type": "code",
   "execution_count": 1,
   "metadata": {},
   "outputs": [],
   "source": [
    "import pandas as pd\n",
    "import numpy as np\n",
    "import math\n",
    "from scipy.stats import t\n",
    "import statsmodels.api as sm"
   ]
  },
  {
   "cell_type": "code",
   "execution_count": 2,
   "metadata": {},
   "outputs": [],
   "source": [
    "#Question 1\n",
    "\n",
    "def median(x):\n",
    "    x = sorted(x)\n",
    "    n = len(x)\n",
    "    med = n/2\n",
    "    \n",
    "    if (math.floor(med) != med):\n",
    "        return((x[int(math.floor(med))] + x[int(math.ceil(med))])/2)\n",
    "    else:\n",
    "        return(x[int(med)])\n",
    "    \n",
    "def quartile(x):\n",
    "    x = sorted(x)\n",
    "    n = len(x)\n",
    "    med = n/2\n",
    "    \n",
    "    if (math.floor(med) != med):\n",
    "        lower = med-1/2\n",
    "        upper = med+1/2\n",
    "    else:\n",
    "        lower = med-1\n",
    "        upper = med+1\n",
    "        \n",
    "    return(median(x[0:int(lower)]),median(x),median(x[int(upper):len(x)]))"
   ]
  },
  {
   "cell_type": "code",
   "execution_count": 3,
   "metadata": {},
   "outputs": [
    {
     "data": {
      "text/plain": [
       "(24.5, 50, 75.5)"
      ]
     },
     "execution_count": 3,
     "metadata": {},
     "output_type": "execute_result"
    }
   ],
   "source": [
    "test = list(range(100))\n",
    "quartile(test)"
   ]
  },
  {
   "cell_type": "code",
   "execution_count": 4,
   "metadata": {},
   "outputs": [],
   "source": [
    "#Question 2\n",
    "\n",
    "def lsr(x,y):\n",
    "    \n",
    "    if(len(x)!=len(y)):\n",
    "        raise ValueError(\"error: the vectors don't have the same length\")\n",
    "        \n",
    "    n = len(x)\n",
    "    \n",
    "    slope = (n*sum(x*y) - sum(x)*sum(y))/(n*sum(x**2)-(sum(x))**2)\n",
    "    intercept = (sum(y) - slope*sum(x))/n\n",
    "    y_pred = slope*x + intercept\n",
    "    sse = sum((y - y_pred)**2)\n",
    "    residuals = y-y_pred\n",
    "    slope_se = math.sqrt(sse/(n-2))/ math.sqrt(sum((x-np.mean(x))**2))\n",
    "    slope_tval = slope/slope_se\n",
    "    pvalue = 2*t.cdf(-abs(slope_tval),df=n-2)\n",
    "    \n",
    "    d = {\"Slope\":slope,\"Intercept\":intercept, \"Sum of Squared Error\":sse, \"Residuals\":residuals, \"P-value\": pvalue}\n",
    "    return d"
   ]
  },
  {
   "cell_type": "code",
   "execution_count": 5,
   "metadata": {},
   "outputs": [],
   "source": [
    "x = (np.random.normal(0,1,size=50))\n",
    "y = (np.random.normal(0,1,size=50))"
   ]
  },
  {
   "cell_type": "code",
   "execution_count": 6,
   "metadata": {},
   "outputs": [
    {
     "name": "stdout",
     "output_type": "stream",
     "text": [
      "                            OLS Regression Results                            \n",
      "==============================================================================\n",
      "Dep. Variable:                      y   R-squared:                       0.037\n",
      "Model:                            OLS   Adj. R-squared:                  0.017\n",
      "Method:                 Least Squares   F-statistic:                     1.861\n",
      "Date:                Wed, 02 Dec 2020   Prob (F-statistic):              0.179\n",
      "Time:                        21:04:51   Log-Likelihood:                -67.077\n",
      "No. Observations:                  50   AIC:                             138.2\n",
      "Df Residuals:                      48   BIC:                             142.0\n",
      "Df Model:                           1                                         \n",
      "Covariance Type:            nonrobust                                         \n",
      "==============================================================================\n",
      "                 coef    std err          t      P>|t|      [0.025      0.975]\n",
      "------------------------------------------------------------------------------\n",
      "const         -0.1209      0.134     -0.899      0.373      -0.391       0.149\n",
      "x1            -0.1821      0.133     -1.364      0.179      -0.451       0.086\n",
      "==============================================================================\n",
      "Omnibus:                        7.730   Durbin-Watson:                   2.268\n",
      "Prob(Omnibus):                  0.021   Jarque-Bera (JB):                6.891\n",
      "Skew:                           0.734   Prob(JB):                       0.0319\n",
      "Kurtosis:                       4.074   Cond. No.                         1.12\n",
      "==============================================================================\n",
      "\n",
      "Warnings:\n",
      "[1] Standard Errors assume that the covariance matrix of the errors is correctly specified.\n",
      "intercept, slope: [-0.12092045 -0.18210559]\n",
      "pvalue: 0.17886706876764116\n"
     ]
    }
   ],
   "source": [
    "# Actaul results to test\n",
    "x2 = sm.add_constant(x)\n",
    "model = sm.OLS(y,x2)\n",
    "reg = model.fit()\n",
    "print(reg.summary())\n",
    "print('intercept, slope:',reg.params)\n",
    "print('pvalue:', reg.pvalues[1])"
   ]
  },
  {
   "cell_type": "code",
   "execution_count": 7,
   "metadata": {},
   "outputs": [
    {
     "data": {
      "text/plain": [
       "{'Slope': -0.1821055944611033,\n",
       " 'Intercept': -0.1209204513537464,\n",
       " 'Sum of Squared Error': 42.83025427059246,\n",
       " 'Residuals': array([-0.45263767,  0.64667662,  0.73473386, -0.4660458 , -0.0748317 ,\n",
       "         0.84994918, -0.50027618,  1.5020586 , -0.36071676, -0.72407938,\n",
       "         3.19119135, -1.07675705, -0.02303647,  0.3073723 , -0.52474492,\n",
       "        -0.28213033,  0.87557495, -0.81930218, -0.99240173, -1.00444407,\n",
       "        -0.7266865 ,  1.68105374, -0.42176483,  0.5791934 , -0.18098985,\n",
       "        -0.31312387, -1.06345317,  1.02593031, -0.36170331,  0.25066573,\n",
       "        -0.1991062 ,  0.99256725, -1.64572498, -0.15698064, -0.72009929,\n",
       "        -1.26959814, -1.35079771,  0.59097844, -0.10389905,  1.00522587,\n",
       "         0.12536585, -0.12238443,  0.81710601,  0.83856681,  0.73409894,\n",
       "         0.82863533, -0.0863179 ,  0.98591798, -1.1139217 , -1.42490669]),\n",
       " 'P-value': 0.17886706876764116}"
      ]
     },
     "execution_count": 7,
     "metadata": {},
     "output_type": "execute_result"
    }
   ],
   "source": [
    "# Results from lsr function\n",
    "lsr(x,y)"
   ]
  },
  {
   "cell_type": "code",
   "execution_count": null,
   "metadata": {},
   "outputs": [],
   "source": []
  }
 ],
 "metadata": {
  "kernelspec": {
   "display_name": "Python 3",
   "language": "python",
   "name": "python3"
  },
  "language_info": {
   "codemirror_mode": {
    "name": "ipython",
    "version": 3
   },
   "file_extension": ".py",
   "mimetype": "text/x-python",
   "name": "python",
   "nbconvert_exporter": "python",
   "pygments_lexer": "ipython3",
   "version": "3.7.6"
  }
 },
 "nbformat": 4,
 "nbformat_minor": 4
}
